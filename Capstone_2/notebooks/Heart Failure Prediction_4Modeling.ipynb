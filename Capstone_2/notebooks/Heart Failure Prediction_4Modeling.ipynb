{
 "cells": [
  {
   "cell_type": "markdown",
   "id": "fa63dd05",
   "metadata": {},
   "source": [
    "**Descriptions (from source):** <br>\n",
    "- **Age**: age of the patient [years]\n",
    "- **Sex**: sex of the patient [M: Male, F: Female]\n",
    "- **ChestPainType**: chest pain type [TA: Typical Angina, ATA: Atypical Angina, NAP: Non-Anginal Pain, ASY: Asymptomatic]\n",
    "- **RestingBP**: resting blood pressure [mm Hg]\n",
    "- **Cholesterol**: serum cholesterol [mm/dl]\n",
    "- **FastingBS**: fasting blood sugar [1: if FastingBS > 120 mg/dl, 0: otherwise]\n",
    "- **RestingECG**: resting electrocardiogram results [Normal: Normal, ST: having ST-T wave abnormality (T wave inversions and/or ST elevation or depression of > 0.05 mV), LVH: showing probable or definite left ventricular hypertrophy by Estes' criteria]\n",
    "- **MaxHR**: maximum heart rate achieved [Numeric value between 60 and 202]\n",
    "- **ExerciseAngina**: exercise-induced angina [Y: Yes, N: No]\n",
    "- **Oldpeak**: oldpeak = ST [Numeric value measured in depression]\n",
    "- **ST_Slope**: the slope of the peak exercise ST segment [Up: upsloping, Flat: flat, Down: downsloping]\n",
    "- **HeartDisease**: output class [1: heart disease, 0: Normal]"
   ]
  },
  {
   "cell_type": "markdown",
   "id": "7130bdd9",
   "metadata": {},
   "source": [
    "**Descriptions (new):** <br>\n",
    "- **Sex**: sex of the patient [0: Female, 1: Male]\n",
    "- **ChestPainType**: chest pain type [0: Asymptomatic, 1: Atypical Angina, 2: Non-Anginal Pain, 3: Typical Angina]\n",
    "- **RestingECG**: resting electrocardiogram results [0: showing probable or definite left ventricular hypertrophy by Estes' criteria, 1: Normal, 2: having ST-T wave abnormality (T wave inversions and/or ST elevation or depression of > 0.05 mV)]\n",
    "- **ExerciseAngina**: exercise-induced angina [0: No, 1: Yes]\n",
    "- **ST_Slope**: the slope of the peak exercise ST segment [0: downsloping, 1: flat, 2: upsloping]"
   ]
  },
  {
   "cell_type": "code",
   "execution_count": 1,
   "id": "f0fa9ef1",
   "metadata": {},
   "outputs": [],
   "source": [
    "# Load packages\n",
    "import numpy as np\n",
    "import pandas as pd\n",
    "import matplotlib.pyplot as plt\n",
    "import seaborn as sns\n",
    "from sklearn.neighbors import KNeighborsClassifier\n",
    "from sklearn.model_selection import train_test_split\n",
    "from sklearn.model_selection import cross_val_score, KFold\n",
    "from sklearn.preprocessing import StandardScaler, MinMaxScaler\n",
    "from sklearn.model_selection import GridSearchCV\n",
    "from sklearn.model_selection import RandomizedSearchCV\n",
    "from sklearn.metrics import accuracy_score\n",
    "from sklearn.metrics import confusion_matrix, classification_report\n",
    "from sklearn.metrics import roc_auc_score, roc_curve"
   ]
  },
  {
   "cell_type": "code",
   "execution_count": 2,
   "id": "bd9d3f02",
   "metadata": {},
   "outputs": [],
   "source": [
    "# Load the saved datasets from previous step\n",
    "heart = pd.read_csv('heart_preprocessing.csv', index_col=0)"
   ]
  },
  {
   "cell_type": "code",
   "execution_count": 3,
   "id": "67536e53",
   "metadata": {},
   "outputs": [
    {
     "data": {
      "text/html": [
       "<div>\n",
       "<style scoped>\n",
       "    .dataframe tbody tr th:only-of-type {\n",
       "        vertical-align: middle;\n",
       "    }\n",
       "\n",
       "    .dataframe tbody tr th {\n",
       "        vertical-align: top;\n",
       "    }\n",
       "\n",
       "    .dataframe thead th {\n",
       "        text-align: right;\n",
       "    }\n",
       "</style>\n",
       "<table border=\"1\" class=\"dataframe\">\n",
       "  <thead>\n",
       "    <tr style=\"text-align: right;\">\n",
       "      <th></th>\n",
       "      <th>Age</th>\n",
       "      <th>Sex</th>\n",
       "      <th>ChestPainType</th>\n",
       "      <th>RestingBP</th>\n",
       "      <th>Cholesterol</th>\n",
       "      <th>FastingBS</th>\n",
       "      <th>RestingECG</th>\n",
       "      <th>MaxHR</th>\n",
       "      <th>ExerciseAngina</th>\n",
       "      <th>Oldpeak</th>\n",
       "      <th>ST_Slope</th>\n",
       "      <th>HeartDisease</th>\n",
       "    </tr>\n",
       "  </thead>\n",
       "  <tbody>\n",
       "    <tr>\n",
       "      <th>0</th>\n",
       "      <td>1</td>\n",
       "      <td>1</td>\n",
       "      <td>1</td>\n",
       "      <td>0.462965</td>\n",
       "      <td>0.848073</td>\n",
       "      <td>0</td>\n",
       "      <td>1</td>\n",
       "      <td>1.389073</td>\n",
       "      <td>0</td>\n",
       "      <td>0.317073</td>\n",
       "      <td>2</td>\n",
       "      <td>0</td>\n",
       "    </tr>\n",
       "    <tr>\n",
       "      <th>1</th>\n",
       "      <td>2</td>\n",
       "      <td>0</td>\n",
       "      <td>2</td>\n",
       "      <td>1.627615</td>\n",
       "      <td>-0.169617</td>\n",
       "      <td>0</td>\n",
       "      <td>1</td>\n",
       "      <td>0.756166</td>\n",
       "      <td>0</td>\n",
       "      <td>0.439024</td>\n",
       "      <td>1</td>\n",
       "      <td>1</td>\n",
       "    </tr>\n",
       "    <tr>\n",
       "      <th>2</th>\n",
       "      <td>0</td>\n",
       "      <td>1</td>\n",
       "      <td>1</td>\n",
       "      <td>-0.119361</td>\n",
       "      <td>0.792053</td>\n",
       "      <td>0</td>\n",
       "      <td>2</td>\n",
       "      <td>-1.538120</td>\n",
       "      <td>0</td>\n",
       "      <td>0.317073</td>\n",
       "      <td>2</td>\n",
       "      <td>0</td>\n",
       "    </tr>\n",
       "    <tr>\n",
       "      <th>3</th>\n",
       "      <td>1</td>\n",
       "      <td>0</td>\n",
       "      <td>0</td>\n",
       "      <td>0.346500</td>\n",
       "      <td>0.147828</td>\n",
       "      <td>0</td>\n",
       "      <td>1</td>\n",
       "      <td>-1.142554</td>\n",
       "      <td>1</td>\n",
       "      <td>0.500000</td>\n",
       "      <td>1</td>\n",
       "      <td>1</td>\n",
       "    </tr>\n",
       "    <tr>\n",
       "      <th>4</th>\n",
       "      <td>2</td>\n",
       "      <td>1</td>\n",
       "      <td>2</td>\n",
       "      <td>1.045290</td>\n",
       "      <td>-0.029568</td>\n",
       "      <td>0</td>\n",
       "      <td>1</td>\n",
       "      <td>-0.588760</td>\n",
       "      <td>0</td>\n",
       "      <td>0.317073</td>\n",
       "      <td>2</td>\n",
       "      <td>0</td>\n",
       "    </tr>\n",
       "  </tbody>\n",
       "</table>\n",
       "</div>"
      ],
      "text/plain": [
       "   Age  Sex  ChestPainType  RestingBP  Cholesterol  FastingBS  RestingECG  \\\n",
       "0    1    1              1   0.462965     0.848073          0           1   \n",
       "1    2    0              2   1.627615    -0.169617          0           1   \n",
       "2    0    1              1  -0.119361     0.792053          0           2   \n",
       "3    1    0              0   0.346500     0.147828          0           1   \n",
       "4    2    1              2   1.045290    -0.029568          0           1   \n",
       "\n",
       "      MaxHR  ExerciseAngina   Oldpeak  ST_Slope  HeartDisease  \n",
       "0  1.389073               0  0.317073         2             0  \n",
       "1  0.756166               0  0.439024         1             1  \n",
       "2 -1.538120               0  0.317073         2             0  \n",
       "3 -1.142554               1  0.500000         1             1  \n",
       "4 -0.588760               0  0.317073         2             0  "
      ]
     },
     "execution_count": 3,
     "metadata": {},
     "output_type": "execute_result"
    }
   ],
   "source": [
    "heart.head()"
   ]
  },
  {
   "cell_type": "markdown",
   "id": "aaedcea1",
   "metadata": {},
   "source": [
    "Remember we will also exclude 'RestingECG' and 'RestingBP' in Preprocessing"
   ]
  },
  {
   "cell_type": "code",
   "execution_count": 4,
   "id": "a3820c8c",
   "metadata": {},
   "outputs": [],
   "source": [
    "# Split train and test again with 80% to 20% ratio\n",
    "X = heart.drop(['HeartDisease', 'RestingBP', 'RestingECG'],\n",
    "              axis=1).values\n",
    "y = heart['HeartDisease'].values\n",
    "\n",
    "X_train, X_test, y_train, y_test = train_test_split(X, y, test_size=0.2,\n",
    "                                                   random_state=123)"
   ]
  },
  {
   "cell_type": "code",
   "execution_count": 5,
   "id": "b1088a1c",
   "metadata": {},
   "outputs": [
    {
     "name": "stdout",
     "output_type": "stream",
     "text": [
      "(905, 9) (905,)\n",
      "(724, 9) (724,)\n"
     ]
    }
   ],
   "source": [
    "print(X.shape, y.shape)\n",
    "print(X_train.shape, y_train.shape)"
   ]
  },
  {
   "cell_type": "markdown",
   "id": "25e0601e",
   "metadata": {},
   "source": [
    "Since it is a classification problem (predicting whether the patients will have heart diseases), I will include the following models:\n",
    "- K-Nearest Neighbor (KNN)\n",
    "- Logistic Regression\n",
    "- Random Forest\n",
    "- Support Vector Machine (SVM)\n",
    "- Naive Bayes\n",
    "- Gradient Boosting"
   ]
  },
  {
   "cell_type": "markdown",
   "id": "a8694a3e",
   "metadata": {},
   "source": [
    "# Train the models"
   ]
  },
  {
   "cell_type": "code",
   "execution_count": 6,
   "id": "cbc57778",
   "metadata": {},
   "outputs": [],
   "source": [
    "# Import all model packages\n",
    "from sklearn.neighbors import KNeighborsClassifier\n",
    "from sklearn.linear_model import LogisticRegression\n",
    "from sklearn.ensemble import RandomForestClassifier\n",
    "from sklearn.svm import SVC\n",
    "from sklearn.naive_bayes import GaussianNB\n",
    "from sklearn.ensemble import ExtraTreesClassifier, GradientBoostingClassifier"
   ]
  },
  {
   "cell_type": "code",
   "execution_count": 7,
   "id": "d0e325a3",
   "metadata": {},
   "outputs": [],
   "source": [
    "# Build a pipeline to fit all models\n",
    "# We use default parameters for all models at first\n",
    "model_pipe = [] # create an empty list to store all models\n",
    "\n",
    "model_pipe.append(KNeighborsClassifier()) # knn\n",
    "model_pipe.append(LogisticRegression(solver='liblinear')) # logistic regression\n",
    "model_pipe.append(RandomForestClassifier()) # random forest\n",
    "model_pipe.append(SVC()) # svc\n",
    "model_pipe.append(GaussianNB()) # naive bayes\n",
    "model_pipe.append(GradientBoostingClassifier()) # gradient boosting"
   ]
  },
  {
   "cell_type": "code",
   "execution_count": 8,
   "id": "41f6f45c",
   "metadata": {},
   "outputs": [],
   "source": [
    "# Build a pipeline for model evaluation\n",
    "# We will use Accuracy, Cross-Validation, AUC, and Confusion Matrix\n",
    "\n",
    "acc_score = []\n",
    "cv_score = []\n",
    "auc_score = []\n",
    "cm_score = []\n",
    "\n",
    "for model in model_pipe:\n",
    "    model.fit(X_train, y_train)\n",
    "    y_pred = model.predict(X_test)\n",
    "    acc_score.append(accuracy_score(y_test, y_pred))\n",
    "    kf = KFold(n_splits=6, shuffle=True, random_state=123)\n",
    "    cv_score.append(np.mean(cross_val_score(model,X_train,y_train, cv=kf)))\n",
    "    auc_score.append(roc_auc_score(y_test, y_pred))\n",
    "    cm_score.append(confusion_matrix(y_test, y_pred))"
   ]
  },
  {
   "cell_type": "code",
   "execution_count": 9,
   "id": "2a9f5646",
   "metadata": {},
   "outputs": [
    {
     "name": "stderr",
     "output_type": "stream",
     "text": [
      "/var/folders/5r/zswwxscs1fg2xzmhnbhxqjx00000gn/T/ipykernel_17632/134960289.py:11: FutureWarning: The frame.append method is deprecated and will be removed from pandas in a future version. Use pandas.concat instead.\n",
      "  table = table.append({'classifiers': m.__class__.__name__,\n",
      "/var/folders/5r/zswwxscs1fg2xzmhnbhxqjx00000gn/T/ipykernel_17632/134960289.py:11: FutureWarning: The frame.append method is deprecated and will be removed from pandas in a future version. Use pandas.concat instead.\n",
      "  table = table.append({'classifiers': m.__class__.__name__,\n",
      "/var/folders/5r/zswwxscs1fg2xzmhnbhxqjx00000gn/T/ipykernel_17632/134960289.py:11: FutureWarning: The frame.append method is deprecated and will be removed from pandas in a future version. Use pandas.concat instead.\n",
      "  table = table.append({'classifiers': m.__class__.__name__,\n",
      "/var/folders/5r/zswwxscs1fg2xzmhnbhxqjx00000gn/T/ipykernel_17632/134960289.py:11: FutureWarning: The frame.append method is deprecated and will be removed from pandas in a future version. Use pandas.concat instead.\n",
      "  table = table.append({'classifiers': m.__class__.__name__,\n",
      "/var/folders/5r/zswwxscs1fg2xzmhnbhxqjx00000gn/T/ipykernel_17632/134960289.py:11: FutureWarning: The frame.append method is deprecated and will be removed from pandas in a future version. Use pandas.concat instead.\n",
      "  table = table.append({'classifiers': m.__class__.__name__,\n",
      "/var/folders/5r/zswwxscs1fg2xzmhnbhxqjx00000gn/T/ipykernel_17632/134960289.py:11: FutureWarning: The frame.append method is deprecated and will be removed from pandas in a future version. Use pandas.concat instead.\n",
      "  table = table.append({'classifiers': m.__class__.__name__,\n"
     ]
    }
   ],
   "source": [
    "# Train the model to get ROC and AUC results\n",
    "table = pd.DataFrame(columns=['classifiers','fpr','tpr','auc'])\n",
    "\n",
    "for m in model_pipe:\n",
    "    model = m.fit(X_train, y_train)\n",
    "    ypred = model.predict(X_test)\n",
    "    \n",
    "    fpr, tpr, _ = roc_curve(y_test, ypred)\n",
    "    auc = roc_auc_score(y_test, ypred)\n",
    "    \n",
    "    table = table.append({'classifiers': m.__class__.__name__,\n",
    "                        'fpr': fpr,\n",
    "                        'tpr': tpr,\n",
    "                        'auc': auc}, ignore_index=True)\n",
    "    \n",
    "table.set_index('classifiers', inplace=True)"
   ]
  },
  {
   "cell_type": "code",
   "execution_count": 10,
   "id": "b996ad65",
   "metadata": {},
   "outputs": [
    {
     "data": {
      "image/png": "[encoded data removed]",
      "text/plain": [
       "<Figure size 576x432 with 1 Axes>"
      ]
     },
     "metadata": {
      "needs_background": "light"
     },
     "output_type": "display_data"
    }
   ],
   "source": [
    "# Plot ROC curves\n",
    "fig = plt.figure(figsize=(8,6))\n",
    "\n",
    "for i in table.index:\n",
    "    plt.plot(table.loc[i]['fpr'],\n",
    "            table.loc[i]['tpr'],\n",
    "            label='{}, AUC={:.4f}'.format(i, table.loc[i]['auc']))\n",
    "plt.plot([0,1],[0,1], color='black', linestyle='--')\n",
    "\n",
    "plt.xticks(np.arange(0.0, 1.1, step=0.1))\n",
    "plt.xlabel('False Positive Rate', fontsize=15)\n",
    "\n",
    "plt.yticks(np.arange(0.0, 1.1, step=0.1))\n",
    "plt.ylabel('True Positive Rate', fontsize=15)\n",
    "\n",
    "plt.title('ROC Curve Analysis', fontweight='bold')\n",
    "plt.legend(loc='lower right')\n",
    "\n",
    "plt.show()"
   ]
  },
  {
   "cell_type": "code",
   "execution_count": 11,
   "id": "96963f5f",
   "metadata": {},
   "outputs": [
    {
     "data": {
      "text/html": [
       "<div>\n",
       "<style scoped>\n",
       "    .dataframe tbody tr th:only-of-type {\n",
       "        vertical-align: middle;\n",
       "    }\n",
       "\n",
       "    .dataframe tbody tr th {\n",
       "        vertical-align: top;\n",
       "    }\n",
       "\n",
       "    .dataframe thead th {\n",
       "        text-align: right;\n",
       "    }\n",
       "</style>\n",
       "<table border=\"1\" class=\"dataframe\">\n",
       "  <thead>\n",
       "    <tr style=\"text-align: right;\">\n",
       "      <th></th>\n",
       "      <th>Model</th>\n",
       "      <th>Accuracy</th>\n",
       "      <th>CV</th>\n",
       "      <th>AUC</th>\n",
       "    </tr>\n",
       "  </thead>\n",
       "  <tbody>\n",
       "    <tr>\n",
       "      <th>0</th>\n",
       "      <td>KNN</td>\n",
       "      <td>0.867403</td>\n",
       "      <td>0.838361</td>\n",
       "      <td>0.866380</td>\n",
       "    </tr>\n",
       "    <tr>\n",
       "      <th>1</th>\n",
       "      <td>Logistic Regression</td>\n",
       "      <td>0.828729</td>\n",
       "      <td>0.850849</td>\n",
       "      <td>0.832400</td>\n",
       "    </tr>\n",
       "    <tr>\n",
       "      <th>2</th>\n",
       "      <td>Random Forest</td>\n",
       "      <td>0.850829</td>\n",
       "      <td>0.856348</td>\n",
       "      <td>0.850261</td>\n",
       "    </tr>\n",
       "    <tr>\n",
       "      <th>3</th>\n",
       "      <td>SVC</td>\n",
       "      <td>0.828729</td>\n",
       "      <td>0.860491</td>\n",
       "      <td>0.827732</td>\n",
       "    </tr>\n",
       "    <tr>\n",
       "      <th>4</th>\n",
       "      <td>Naive Bayes</td>\n",
       "      <td>0.850829</td>\n",
       "      <td>0.861869</td>\n",
       "      <td>0.853373</td>\n",
       "    </tr>\n",
       "    <tr>\n",
       "      <th>5</th>\n",
       "      <td>Gradient Boosting</td>\n",
       "      <td>0.883978</td>\n",
       "      <td>0.861857</td>\n",
       "      <td>0.882499</td>\n",
       "    </tr>\n",
       "  </tbody>\n",
       "</table>\n",
       "</div>"
      ],
      "text/plain": [
       "                 Model  Accuracy        CV       AUC\n",
       "0                  KNN  0.867403  0.838361  0.866380\n",
       "1  Logistic Regression  0.828729  0.850849  0.832400\n",
       "2        Random Forest  0.850829  0.856348  0.850261\n",
       "3                  SVC  0.828729  0.860491  0.827732\n",
       "4          Naive Bayes  0.850829  0.861869  0.853373\n",
       "5    Gradient Boosting  0.883978  0.861857  0.882499"
      ]
     },
     "execution_count": 11,
     "metadata": {},
     "output_type": "execute_result"
    }
   ],
   "source": [
    "# Now we can see how each model performs\n",
    "model_list = ['KNN', 'Logistic Regression', 'Random Forest',\n",
    "             'SVC', 'Naive Bayes', 'Gradient Boosting']\n",
    "evaluation_df = pd.DataFrame({'Model': model_list, \n",
    "                              'Accuracy': acc_score,\n",
    "                              'CV': cv_score,\n",
    "                             'AUC': auc_score})\n",
    "evaluation_df"
   ]
  },
  {
   "cell_type": "code",
   "execution_count": 12,
   "id": "b25273d9",
   "metadata": {},
   "outputs": [
    {
     "data": {
      "image/png": "[encoded data removed]",
      "text/plain": [
       "<Figure size 1296x720 with 12 Axes>"
      ]
     },
     "metadata": {
      "needs_background": "light"
     },
     "output_type": "display_data"
    }
   ],
   "source": [
    "# Now we create a confusion matrix for the results\n",
    "fig = plt.figure(figsize=(18,10))\n",
    "\n",
    "for i in range(len(cm_score)):\n",
    "    cm = cm_score[i]\n",
    "    model = model_pipe[i]\n",
    "    sub = fig.add_subplot(2,3,i+1).set_title(model)\n",
    "    _ = sns.heatmap(cm, annot=True,cmap='Blues_r')\n",
    "    _.set_xlabel('Predicted')\n",
    "    _.set_ylabel('Actual')"
   ]
  },
  {
   "cell_type": "markdown",
   "id": "a995a1dc",
   "metadata": {},
   "source": [
    "From the above evaluations, we can notice that the Gradient Boosting has the highest accuracy score and AUC score, followed by KNN. Logistic Regression and SVC seem to be not doing well. \n",
    "On the other hand, Random Forest has the highest Cross validation score, followed by Gradient Boosting.\n",
    "But remember we only train each model with its default parameters, model performance might be different if applying different parameters. So, the next step is hyperparameter tuning. "
   ]
  },
  {
   "cell_type": "markdown",
   "id": "3e52f455",
   "metadata": {},
   "source": [
    "# Hyperparameter Tuning"
   ]
  },
  {
   "cell_type": "markdown",
   "id": "7857de11",
   "metadata": {},
   "source": [
    "### Random Forest"
   ]
  },
  {
   "cell_type": "code",
   "execution_count": 14,
   "id": "32666dbf",
   "metadata": {},
   "outputs": [
    {
     "name": "stdout",
     "output_type": "stream",
     "text": [
      "RandomForestClassifier(criterion='entropy', max_depth=7, n_estimators=500,\n",
      "                       random_state=123)\n",
      "0.879837164750958\n"
     ]
    }
   ],
   "source": [
    "# Apply Gridsearch CV for Random Forest\n",
    "rf = RandomForestClassifier(random_state=123)\n",
    "params = {'n_estimators': [100, 500],\n",
    "             'max_depth': [4,5,6,7,8],\n",
    "             'criterion': ['gini','entropy'],\n",
    "         'min_samples_leaf': [1,5,10]}\n",
    "cv_rf = GridSearchCV(estimator=rf, param_grid=params, cv=5)\n",
    "cv_rf.fit(X_train, y_train)\n",
    "\n",
    "print(cv_rf.best_estimator_)\n",
    "print(cv_rf.best_score_)"
   ]
  },
  {
   "cell_type": "code",
   "execution_count": 29,
   "id": "88776c84",
   "metadata": {},
   "outputs": [
    {
     "name": "stdout",
     "output_type": "stream",
     "text": [
      "Accuracy score for optimized random forest model: 0.8619\n",
      "Cross validation score for optimized random forest model: 0.9235\n",
      "AUC score for optimized random forest model: 0.9349\n"
     ]
    }
   ],
   "source": [
    "# Train our data with optimized random forest model\n",
    "rf = RandomForestClassifier(criterion = 'entropy',\n",
    "                           max_depth = 7,\n",
    "                           n_estimators=500,\n",
    "                           random_state=123)\n",
    "rf.fit(X_train, y_train)\n",
    "ypred = rf.predict(X_test)\n",
    "\n",
    "# Accuracy score\n",
    "acc = round(accuracy_score(y_test, ypred),4)\n",
    "# CV score\n",
    "cv = round(cross_val_score(rf, X_test, y_test, scoring = 'roc_auc').mean(),4)\n",
    "# ROC-AUC score\n",
    "rf_optimized_y = rf.predict_proba(X_test)[:,1]\n",
    "rf_optimized_auc = round(roc_auc_score(y_test, rf_optimized_y),4)\n",
    "\n",
    "print(f'Accuracy score for optimized random forest model: {acc}')\n",
    "print(f'Cross validation score for optimized random forest model: {cv}')\n",
    "print(f'AUC score for optimized random forest model: {rf_optimized_auc}')"
   ]
  },
  {
   "cell_type": "code",
   "execution_count": 23,
   "id": "f6045f64",
   "metadata": {},
   "outputs": [
    {
     "data": {
      "text/html": [
       "<div>\n",
       "<style scoped>\n",
       "    .dataframe tbody tr th:only-of-type {\n",
       "        vertical-align: middle;\n",
       "    }\n",
       "\n",
       "    .dataframe tbody tr th {\n",
       "        vertical-align: top;\n",
       "    }\n",
       "\n",
       "    .dataframe thead th {\n",
       "        text-align: right;\n",
       "    }\n",
       "</style>\n",
       "<table border=\"1\" class=\"dataframe\">\n",
       "  <thead>\n",
       "    <tr style=\"text-align: right;\">\n",
       "      <th></th>\n",
       "      <th>Features</th>\n",
       "      <th>Importance scores</th>\n",
       "    </tr>\n",
       "  </thead>\n",
       "  <tbody>\n",
       "    <tr>\n",
       "      <th>0</th>\n",
       "      <td>Age</td>\n",
       "      <td>0.033472</td>\n",
       "    </tr>\n",
       "    <tr>\n",
       "      <th>1</th>\n",
       "      <td>Sex</td>\n",
       "      <td>0.037355</td>\n",
       "    </tr>\n",
       "    <tr>\n",
       "      <th>2</th>\n",
       "      <td>ChestPainType</td>\n",
       "      <td>0.037526</td>\n",
       "    </tr>\n",
       "    <tr>\n",
       "      <th>3</th>\n",
       "      <td>Cholesterol</td>\n",
       "      <td>0.103112</td>\n",
       "    </tr>\n",
       "    <tr>\n",
       "      <th>4</th>\n",
       "      <td>FastingBS</td>\n",
       "      <td>0.121984</td>\n",
       "    </tr>\n",
       "    <tr>\n",
       "      <th>5</th>\n",
       "      <td>MaxHR</td>\n",
       "      <td>0.123753</td>\n",
       "    </tr>\n",
       "    <tr>\n",
       "      <th>6</th>\n",
       "      <td>ExerciseAngina</td>\n",
       "      <td>0.124364</td>\n",
       "    </tr>\n",
       "    <tr>\n",
       "      <th>7</th>\n",
       "      <td>Oldpeak</td>\n",
       "      <td>0.126131</td>\n",
       "    </tr>\n",
       "    <tr>\n",
       "      <th>8</th>\n",
       "      <td>ST_Slope</td>\n",
       "      <td>0.292303</td>\n",
       "    </tr>\n",
       "  </tbody>\n",
       "</table>\n",
       "</div>"
      ],
      "text/plain": [
       "         Features  Importance scores\n",
       "0             Age           0.033472\n",
       "1             Sex           0.037355\n",
       "2   ChestPainType           0.037526\n",
       "3     Cholesterol           0.103112\n",
       "4       FastingBS           0.121984\n",
       "5           MaxHR           0.123753\n",
       "6  ExerciseAngina           0.124364\n",
       "7         Oldpeak           0.126131\n",
       "8        ST_Slope           0.292303"
      ]
     },
     "execution_count": 23,
     "metadata": {},
     "output_type": "execute_result"
    }
   ],
   "source": [
    "# Feature importance of optimized random forest\n",
    "names = list((heart.drop(['HeartDisease', 'RestingBP', 'RestingECG'],\n",
    "              axis=1)).columns)\n",
    "importance = np.sort(list(rf.feature_importances_))\n",
    "importance_df = pd.DataFrame({'Features': names,\n",
    "                             'Importance scores': importance})\n",
    "importance_df"
   ]
  },
  {
   "cell_type": "markdown",
   "id": "29bec7ca",
   "metadata": {},
   "source": [
    "Based on optimized random forest model, 'St_Slope' is the most important feature predicting heart diseases."
   ]
  },
  {
   "cell_type": "markdown",
   "id": "86ccb925",
   "metadata": {},
   "source": [
    "### Gradient Boost"
   ]
  },
  {
   "cell_type": "code",
   "execution_count": 36,
   "id": "ab9a5dc4",
   "metadata": {},
   "outputs": [
    {
     "name": "stdout",
     "output_type": "stream",
     "text": [
      "GradientBoostingClassifier(max_depth=4, min_samples_leaf=100, random_state=123)\n",
      "0.8770785440613027\n"
     ]
    }
   ],
   "source": [
    "# Apply Gridsearch CV for Gradient Boost\n",
    "gb = GradientBoostingClassifier(random_state=123)\n",
    "params = {'n_estimators': [100, 200, 300],\n",
    "          'learning_rate': [0.1, 0.05, 0.01],\n",
    "         'min_samples_leaf':[100,150],\n",
    "         'max_depth': [4,8]}\n",
    "cv_gb = GridSearchCV(estimator=gb, param_grid=params, cv=5)\n",
    "cv_gb.fit(X_train, y_train)\n",
    "\n",
    "print(cv_gb.best_estimator_)\n",
    "print(cv_gb.best_score_)"
   ]
  },
  {
   "cell_type": "code",
   "execution_count": 48,
   "id": "fe293226",
   "metadata": {},
   "outputs": [
    {
     "name": "stdout",
     "output_type": "stream",
     "text": [
      "Accuracy score for optimized gradient boosting model: 0.8564\n",
      "Cross validation score for optimized gradient boosting model: 0.5\n",
      "AUC score for optimized gradient boosting model: 0.9349\n"
     ]
    }
   ],
   "source": [
    "# Train our data with optimized gradient boosting model\n",
    "gb = GradientBoostingClassifier(max_depth=4,\n",
    "                               min_samples_leaf=100,\n",
    "                               random_state=123)\n",
    "gb.fit(X_train, y_train)\n",
    "ypred = gb.predict(X_test)\n",
    "\n",
    "# Accuracy score\n",
    "acc = round(accuracy_score(y_test, ypred),4)\n",
    "# CV score\n",
    "cv = round(cross_val_score(gb, X_test, y_test, scoring = 'roc_auc').mean(),4)\n",
    "# ROC-AUC score\n",
    "gb_optimized_y = gb.predict_proba(X_test)[:,1]\n",
    "gb_optimized_auc = round(roc_auc_score(y_test, gb_optimized_y),4)\n",
    "\n",
    "print(f'Accuracy score for optimized gradient boosting model: {acc}')\n",
    "print(f'Cross validation score for optimized gradient boosting model: {cv}')\n",
    "print(f'AUC score for optimized gradient boosting model: {rf_optimized_auc}')"
   ]
  },
  {
   "cell_type": "code",
   "execution_count": 38,
   "id": "05881517",
   "metadata": {},
   "outputs": [
    {
     "data": {
      "text/html": [
       "<div>\n",
       "<style scoped>\n",
       "    .dataframe tbody tr th:only-of-type {\n",
       "        vertical-align: middle;\n",
       "    }\n",
       "\n",
       "    .dataframe tbody tr th {\n",
       "        vertical-align: top;\n",
       "    }\n",
       "\n",
       "    .dataframe thead th {\n",
       "        text-align: right;\n",
       "    }\n",
       "</style>\n",
       "<table border=\"1\" class=\"dataframe\">\n",
       "  <thead>\n",
       "    <tr style=\"text-align: right;\">\n",
       "      <th></th>\n",
       "      <th>Features</th>\n",
       "      <th>Importance scores</th>\n",
       "    </tr>\n",
       "  </thead>\n",
       "  <tbody>\n",
       "    <tr>\n",
       "      <th>0</th>\n",
       "      <td>Age</td>\n",
       "      <td>0.003179</td>\n",
       "    </tr>\n",
       "    <tr>\n",
       "      <th>1</th>\n",
       "      <td>Sex</td>\n",
       "      <td>0.020458</td>\n",
       "    </tr>\n",
       "    <tr>\n",
       "      <th>2</th>\n",
       "      <td>ChestPainType</td>\n",
       "      <td>0.031236</td>\n",
       "    </tr>\n",
       "    <tr>\n",
       "      <th>3</th>\n",
       "      <td>Cholesterol</td>\n",
       "      <td>0.042262</td>\n",
       "    </tr>\n",
       "    <tr>\n",
       "      <th>4</th>\n",
       "      <td>FastingBS</td>\n",
       "      <td>0.061171</td>\n",
       "    </tr>\n",
       "    <tr>\n",
       "      <th>5</th>\n",
       "      <td>MaxHR</td>\n",
       "      <td>0.063958</td>\n",
       "    </tr>\n",
       "    <tr>\n",
       "      <th>6</th>\n",
       "      <td>ExerciseAngina</td>\n",
       "      <td>0.071845</td>\n",
       "    </tr>\n",
       "    <tr>\n",
       "      <th>7</th>\n",
       "      <td>Oldpeak</td>\n",
       "      <td>0.124129</td>\n",
       "    </tr>\n",
       "    <tr>\n",
       "      <th>8</th>\n",
       "      <td>ST_Slope</td>\n",
       "      <td>0.581762</td>\n",
       "    </tr>\n",
       "  </tbody>\n",
       "</table>\n",
       "</div>"
      ],
      "text/plain": [
       "         Features  Importance scores\n",
       "0             Age           0.003179\n",
       "1             Sex           0.020458\n",
       "2   ChestPainType           0.031236\n",
       "3     Cholesterol           0.042262\n",
       "4       FastingBS           0.061171\n",
       "5           MaxHR           0.063958\n",
       "6  ExerciseAngina           0.071845\n",
       "7         Oldpeak           0.124129\n",
       "8        ST_Slope           0.581762"
      ]
     },
     "execution_count": 38,
     "metadata": {},
     "output_type": "execute_result"
    }
   ],
   "source": [
    "# Feature importance of optimized gradient boosting\n",
    "names = list((heart.drop(['HeartDisease', 'RestingBP', 'RestingECG'],\n",
    "              axis=1)).columns)\n",
    "importance = np.sort(list(gb.feature_importances_))\n",
    "importance_df = pd.DataFrame({'Features': names,\n",
    "                             'Importance scores': importance})\n",
    "importance_df"
   ]
  },
  {
   "cell_type": "markdown",
   "id": "3189b7fa",
   "metadata": {},
   "source": [
    "Based on optimized gradient boosting model, 'St_Slope' is the most important feature predicting heart diseases."
   ]
  },
  {
   "cell_type": "markdown",
   "id": "2c29f0e9",
   "metadata": {},
   "source": [
    "### KNN"
   ]
  },
  {
   "cell_type": "code",
   "execution_count": 43,
   "id": "dc6d0b8a",
   "metadata": {},
   "outputs": [
    {
     "name": "stdout",
     "output_type": "stream",
     "text": [
      "KNeighborsClassifier(metric='manhattan', n_neighbors=15)\n",
      "0.8687835249042145\n"
     ]
    }
   ],
   "source": [
    "# Apply Gridsearch CV for KNN\n",
    "knn = KNeighborsClassifier()\n",
    "params = {\n",
    "         'n_neighbors': list(range(1, 50)),\n",
    "         'weights': ['uniform', 'distance'],\n",
    "         'metric': ['minkowski','euclidean','manhattan']}\n",
    "cv_knn = GridSearchCV(estimator=knn, param_grid=params, cv=5)\n",
    "cv_knn.fit(X_train, y_train)\n",
    "\n",
    "print(cv_knn.best_estimator_)\n",
    "print(cv_knn.best_score_)"
   ]
  },
  {
   "cell_type": "code",
   "execution_count": 50,
   "id": "2b8d4c4c",
   "metadata": {},
   "outputs": [
    {
     "name": "stdout",
     "output_type": "stream",
     "text": [
      "Accuracy score for optimized KNN model: 0.8785\n",
      "Cross validation score for KNN model: 0.9229\n",
      "AUC score for optimized KNN model: 0.9349\n"
     ]
    }
   ],
   "source": [
    "# Train our data with optimized KNN model\n",
    "knn = KNeighborsClassifier(metric='manhattan',\n",
    "                          n_neighbors=15)\n",
    "knn.fit(X_train, y_train)\n",
    "ypred = knn.predict(X_test)\n",
    "\n",
    "# Accuracy score\n",
    "acc = round(accuracy_score(y_test, ypred),4)\n",
    "# CV score\n",
    "cv = round(cross_val_score(knn, X_test, y_test, scoring = 'roc_auc').mean(),4)\n",
    "# ROC-AUC score\n",
    "knn_optimized_y = knn.predict_proba(X_test)[:,1]\n",
    "knn_optimized_auc = round(roc_auc_score(y_test, knn_optimized_y),4)\n",
    "\n",
    "print(f'Accuracy score for optimized KNN model: {acc}')\n",
    "print(f'Cross validation score for KNN model: {cv}')\n",
    "print(f'AUC score for optimized KNN model: {rf_optimized_auc}')"
   ]
  },
  {
   "cell_type": "markdown",
   "id": "cfd19872",
   "metadata": {},
   "source": [
    "# Conclusion"
   ]
  },
  {
   "cell_type": "markdown",
   "id": "8996359a",
   "metadata": {},
   "source": [
    "- We have proceeded with the previous step into modeling in this notebook\n",
    "- Data is split with 80% to 20% ratio for training and testing datasets\n",
    "- There are 9 predictive features (after feature engineering) and 1 target feature (heart diseases: 0 and 1)\n",
    "- This is a classification problem and so we used following machine learning models: \n",
    "    - K-Nearest Neighbor (KNN)\n",
    "    - Logistic Regression\n",
    "    - Random Forest\n",
    "    - Support Vector Machine (SVM)\n",
    "    - Naive Bayes\n",
    "    - Gradient Boosting\n",
    "- We created a pipeline to train all models and also to get evaluation metrics, namely, Accuracy Score, CV Score, and ROC-AUC Score for model performance\n",
    "- Next, we have explored hyperparameters tuning to optimize model performance, and we have looked at 3 models specifically, Random Forest, Gradient Boosting, and KNN\n",
    "- From the results after tuning, the highest accuracy score is KNN (0.8785) and the highest cv score is Random Forest (0.9235)\n",
    "- It is worth noticiing that Random Forest and Gradient Boosting both agree on the most predicting feature: 'ST_Slope'"
   ]
  },
  {
   "cell_type": "code",
   "execution_count": null,
   "id": "6e33ff87",
   "metadata": {},
   "outputs": [],
   "source": []
  }
 ],
 "metadata": {
  "kernelspec": {
   "display_name": "Python 3 (ipykernel)",
   "language": "python",
   "name": "python3"
  },
  "language_info": {
   "codemirror_mode": {
    "name": "ipython",
    "version": 3
   },
   "file_extension": ".py",
   "mimetype": "text/x-python",
   "name": "python",
   "nbconvert_exporter": "python",
   "pygments_lexer": "ipython3",
   "version": "3.10.0"
  }
 },
 "nbformat": 4,
 "nbformat_minor": 5
}
