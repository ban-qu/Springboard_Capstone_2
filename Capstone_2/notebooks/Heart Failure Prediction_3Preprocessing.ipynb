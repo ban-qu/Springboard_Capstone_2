{
 "cells": [
  {
   "cell_type": "code",
   "execution_count": 1,
   "id": "89e53f8c",
   "metadata": {},
   "outputs": [],
   "source": [
    "# import all packages\n",
    "import numpy as np \n",
    "import pandas as pd \n",
    "import matplotlib.pyplot as plt \n",
    "import seaborn as sns\n",
    "from sklearn.preprocessing import StandardScaler, MinMaxScaler\n",
    "from sklearn.pipeline import make_pipeline\n",
    "from sklearn.model_selection import train_test_split, cross_validate\n",
    "\n",
    "from pathlib import Path"
   ]
  },
  {
   "cell_type": "markdown",
   "id": "5f896690",
   "metadata": {},
   "source": [
    "**Descriptions (from source):** <br>\n",
    "- **Age**: age of the patient [years]\n",
    "- **Sex**: sex of the patient [M: Male, F: Female]\n",
    "- **ChestPainType**: chest pain type [TA: Typical Angina, ATA: Atypical Angina, NAP: Non-Anginal Pain, ASY: Asymptomatic]\n",
    "- **RestingBP**: resting blood pressure [mm Hg]\n",
    "- **Cholesterol**: serum cholesterol [mm/dl]\n",
    "- **FastingBS**: fasting blood sugar [1: if FastingBS > 120 mg/dl, 0: otherwise]\n",
    "- **RestingECG**: resting electrocardiogram results [Normal: Normal, ST: having ST-T wave abnormality (T wave inversions and/or ST elevation or depression of > 0.05 mV), LVH: showing probable or definite left ventricular hypertrophy by Estes' criteria]\n",
    "- **MaxHR**: maximum heart rate achieved [Numeric value between 60 and 202]\n",
    "- **ExerciseAngina**: exercise-induced angina [Y: Yes, N: No]\n",
    "- **Oldpeak**: oldpeak = ST [Numeric value measured in depression]\n",
    "- **ST_Slope**: the slope of the peak exercise ST segment [Up: upsloping, Flat: flat, Down: downsloping]\n",
    "- **HeartDisease**: output class [1: heart disease, 0: Normal]"
   ]
  },
  {
   "cell_type": "code",
   "execution_count": 2,
   "id": "9f8c5a39",
   "metadata": {},
   "outputs": [],
   "source": [
    "# Load the data from previous step\n",
    "heart = pd.read_csv('heart_EDA.csv', index_col=0)"
   ]
  },
  {
   "cell_type": "code",
   "execution_count": 3,
   "id": "3f456243",
   "metadata": {},
   "outputs": [
    {
     "data": {
      "text/html": [
       "<div>\n",
       "<style scoped>\n",
       "    .dataframe tbody tr th:only-of-type {\n",
       "        vertical-align: middle;\n",
       "    }\n",
       "\n",
       "    .dataframe tbody tr th {\n",
       "        vertical-align: top;\n",
       "    }\n",
       "\n",
       "    .dataframe thead th {\n",
       "        text-align: right;\n",
       "    }\n",
       "</style>\n",
       "<table border=\"1\" class=\"dataframe\">\n",
       "  <thead>\n",
       "    <tr style=\"text-align: right;\">\n",
       "      <th></th>\n",
       "      <th>Age</th>\n",
       "      <th>Sex</th>\n",
       "      <th>ChestPainType</th>\n",
       "      <th>RestingBP</th>\n",
       "      <th>Cholesterol</th>\n",
       "      <th>FastingBS</th>\n",
       "      <th>RestingECG</th>\n",
       "      <th>MaxHR</th>\n",
       "      <th>ExerciseAngina</th>\n",
       "      <th>Oldpeak</th>\n",
       "      <th>ST_Slope</th>\n",
       "      <th>HeartDisease</th>\n",
       "    </tr>\n",
       "  </thead>\n",
       "  <tbody>\n",
       "    <tr>\n",
       "      <th>0</th>\n",
       "      <td>40</td>\n",
       "      <td>1</td>\n",
       "      <td>1</td>\n",
       "      <td>140</td>\n",
       "      <td>289</td>\n",
       "      <td>0</td>\n",
       "      <td>1</td>\n",
       "      <td>172</td>\n",
       "      <td>0</td>\n",
       "      <td>0.0</td>\n",
       "      <td>2</td>\n",
       "      <td>0</td>\n",
       "    </tr>\n",
       "    <tr>\n",
       "      <th>1</th>\n",
       "      <td>49</td>\n",
       "      <td>0</td>\n",
       "      <td>2</td>\n",
       "      <td>160</td>\n",
       "      <td>180</td>\n",
       "      <td>0</td>\n",
       "      <td>1</td>\n",
       "      <td>156</td>\n",
       "      <td>0</td>\n",
       "      <td>1.0</td>\n",
       "      <td>1</td>\n",
       "      <td>1</td>\n",
       "    </tr>\n",
       "    <tr>\n",
       "      <th>2</th>\n",
       "      <td>37</td>\n",
       "      <td>1</td>\n",
       "      <td>1</td>\n",
       "      <td>130</td>\n",
       "      <td>283</td>\n",
       "      <td>0</td>\n",
       "      <td>2</td>\n",
       "      <td>98</td>\n",
       "      <td>0</td>\n",
       "      <td>0.0</td>\n",
       "      <td>2</td>\n",
       "      <td>0</td>\n",
       "    </tr>\n",
       "    <tr>\n",
       "      <th>3</th>\n",
       "      <td>48</td>\n",
       "      <td>0</td>\n",
       "      <td>0</td>\n",
       "      <td>138</td>\n",
       "      <td>214</td>\n",
       "      <td>0</td>\n",
       "      <td>1</td>\n",
       "      <td>108</td>\n",
       "      <td>1</td>\n",
       "      <td>1.5</td>\n",
       "      <td>1</td>\n",
       "      <td>1</td>\n",
       "    </tr>\n",
       "    <tr>\n",
       "      <th>4</th>\n",
       "      <td>54</td>\n",
       "      <td>1</td>\n",
       "      <td>2</td>\n",
       "      <td>150</td>\n",
       "      <td>195</td>\n",
       "      <td>0</td>\n",
       "      <td>1</td>\n",
       "      <td>122</td>\n",
       "      <td>0</td>\n",
       "      <td>0.0</td>\n",
       "      <td>2</td>\n",
       "      <td>0</td>\n",
       "    </tr>\n",
       "  </tbody>\n",
       "</table>\n",
       "</div>"
      ],
      "text/plain": [
       "   Age  Sex  ChestPainType  RestingBP  Cholesterol  FastingBS  RestingECG  \\\n",
       "0   40    1              1        140          289          0           1   \n",
       "1   49    0              2        160          180          0           1   \n",
       "2   37    1              1        130          283          0           2   \n",
       "3   48    0              0        138          214          0           1   \n",
       "4   54    1              2        150          195          0           1   \n",
       "\n",
       "   MaxHR  ExerciseAngina  Oldpeak  ST_Slope  HeartDisease  \n",
       "0    172               0      0.0         2             0  \n",
       "1    156               0      1.0         1             1  \n",
       "2     98               0      0.0         2             0  \n",
       "3    108               1      1.5         1             1  \n",
       "4    122               0      0.0         2             0  "
      ]
     },
     "execution_count": 3,
     "metadata": {},
     "output_type": "execute_result"
    }
   ],
   "source": [
    "# Take a look at data\n",
    "heart.head()"
   ]
  },
  {
   "cell_type": "markdown",
   "id": "0bdf7082",
   "metadata": {},
   "source": [
    "**Descriptions (new):** <br>\n",
    "- **Sex**: sex of the patient [0: Female, 1: Male]\n",
    "- **ChestPainType**: chest pain type [0: Asymptomatic, 1: Atypical Angina, 2: Non-Anginal Pain, 3: Typical Angina]\n",
    "- **RestingECG**: resting electrocardiogram results [0: showing probable or definite left ventricular hypertrophy by Estes' criteria, 1: Normal, 2: having ST-T wave abnormality (T wave inversions and/or ST elevation or depression of > 0.05 mV)]\n",
    "- **ExerciseAngina**: exercise-induced angina [0: No, 1: Yes]\n",
    "- **ST_Slope**: the slope of the peak exercise ST segment [0: downsloping, 1: flat, 2: upsloping]"
   ]
  },
  {
   "cell_type": "markdown",
   "id": "b3c0b735",
   "metadata": {},
   "source": [
    "Note that we have already encoded categorical features into labels from previous steps."
   ]
  },
  {
   "cell_type": "code",
   "execution_count": 4,
   "id": "b1cf2dd0",
   "metadata": {},
   "outputs": [
    {
     "name": "stdout",
     "output_type": "stream",
     "text": [
      "The youngest person is 28 years old.\n",
      "The oldest person is 77 years old.\n"
     ]
    },
    {
     "data": {
      "image/png": "[encoded data removed]",
      "text/plain": [
       "<Figure size 432x288 with 1 Axes>"
      ]
     },
     "metadata": {
      "needs_background": "light"
     },
     "output_type": "display_data"
    }
   ],
   "source": [
    "# Take a look at 'Age' column\n",
    "heart['Age'].hist()\n",
    "min_age = heart['Age'].min()\n",
    "max_age = heart['Age'].max()\n",
    "print(f'The youngest person is {min_age} years old.')\n",
    "print(f'The oldest person is {max_age} years old.')"
   ]
  },
  {
   "cell_type": "code",
   "execution_count": 30,
   "id": "e8612dd1",
   "metadata": {},
   "outputs": [
    {
     "name": "stdout",
     "output_type": "stream",
     "text": [
      "We will use 5 groups with a group range of 10 years to transform into groups.\n"
     ]
    }
   ],
   "source": [
    "print(f'We will use 5 groups with a group range of {round((max_age-min_age)/5)} years to transform into groups.')"
   ]
  },
  {
   "cell_type": "code",
   "execution_count": 6,
   "id": "4a2f1a65",
   "metadata": {},
   "outputs": [
    {
     "data": {
      "text/plain": [
       "2    354\n",
       "3    239\n",
       "1    204\n",
       "0     64\n",
       "4     44\n",
       "Name: Age, dtype: int64"
      ]
     },
     "execution_count": 6,
     "metadata": {},
     "output_type": "execute_result"
    }
   ],
   "source": [
    "# Transform 'Age' into groups\n",
    "bins = [-np.inf, min_age+10, min_age+10*2, min_age+10*3, min_age+10*4, np.inf] # create boudaries of bins\n",
    "labels = [0, 1, 2, 3, 4] # create bin labels\n",
    "heart['Age'] = pd.cut(heart['Age'], bins=bins, labels=labels) # transform 'Age' to groups\n",
    "\n",
    "heart['Age'].value_counts()"
   ]
  },
  {
   "cell_type": "code",
   "execution_count": 7,
   "id": "424af88a",
   "metadata": {},
   "outputs": [
    {
     "data": {
      "text/plain": [
       "Age               category\n",
       "Sex                  int64\n",
       "ChestPainType        int64\n",
       "RestingBP            int64\n",
       "Cholesterol          int64\n",
       "FastingBS            int64\n",
       "RestingECG           int64\n",
       "MaxHR                int64\n",
       "ExerciseAngina       int64\n",
       "Oldpeak            float64\n",
       "ST_Slope             int64\n",
       "HeartDisease         int64\n",
       "dtype: object"
      ]
     },
     "execution_count": 7,
     "metadata": {},
     "output_type": "execute_result"
    }
   ],
   "source": [
    "# Check all data types again\n",
    "heart.dtypes"
   ]
  },
  {
   "cell_type": "code",
   "execution_count": 8,
   "id": "b060b1c3",
   "metadata": {},
   "outputs": [
    {
     "data": {
      "text/plain": [
       "Age                 int64\n",
       "Sex                 int64\n",
       "ChestPainType       int64\n",
       "RestingBP           int64\n",
       "Cholesterol         int64\n",
       "FastingBS           int64\n",
       "RestingECG          int64\n",
       "MaxHR               int64\n",
       "ExerciseAngina      int64\n",
       "Oldpeak           float64\n",
       "ST_Slope            int64\n",
       "HeartDisease        int64\n",
       "dtype: object"
      ]
     },
     "execution_count": 8,
     "metadata": {},
     "output_type": "execute_result"
    }
   ],
   "source": [
    "# Convert 'Age' to numeric type\n",
    "heart['Age'] = heart['Age'].astype('int64')\n",
    "heart.dtypes"
   ]
  },
  {
   "cell_type": "code",
   "execution_count": 9,
   "id": "7c605874",
   "metadata": {},
   "outputs": [
    {
     "data": {
      "text/plain": [
       "Age               0\n",
       "Sex               0\n",
       "ChestPainType     0\n",
       "RestingBP         0\n",
       "Cholesterol       0\n",
       "FastingBS         0\n",
       "RestingECG        0\n",
       "MaxHR             0\n",
       "ExerciseAngina    0\n",
       "Oldpeak           0\n",
       "ST_Slope          0\n",
       "HeartDisease      0\n",
       "dtype: int64"
      ]
     },
     "execution_count": 9,
     "metadata": {},
     "output_type": "execute_result"
    }
   ],
   "source": [
    "# Check any missing values\n",
    "heart.isna().sum()"
   ]
  },
  {
   "cell_type": "code",
   "execution_count": 10,
   "id": "45bc542a",
   "metadata": {},
   "outputs": [
    {
     "data": {
      "text/html": [
       "<div>\n",
       "<style scoped>\n",
       "    .dataframe tbody tr th:only-of-type {\n",
       "        vertical-align: middle;\n",
       "    }\n",
       "\n",
       "    .dataframe tbody tr th {\n",
       "        vertical-align: top;\n",
       "    }\n",
       "\n",
       "    .dataframe thead th {\n",
       "        text-align: right;\n",
       "    }\n",
       "</style>\n",
       "<table border=\"1\" class=\"dataframe\">\n",
       "  <thead>\n",
       "    <tr style=\"text-align: right;\">\n",
       "      <th></th>\n",
       "      <th>count</th>\n",
       "      <th>mean</th>\n",
       "      <th>std</th>\n",
       "      <th>min</th>\n",
       "      <th>25%</th>\n",
       "      <th>50%</th>\n",
       "      <th>75%</th>\n",
       "      <th>max</th>\n",
       "    </tr>\n",
       "  </thead>\n",
       "  <tbody>\n",
       "    <tr>\n",
       "      <th>Age</th>\n",
       "      <td>905.0</td>\n",
       "      <td>1.994475</td>\n",
       "      <td>0.983814</td>\n",
       "      <td>0.0</td>\n",
       "      <td>1.0</td>\n",
       "      <td>2.0</td>\n",
       "      <td>3.0</td>\n",
       "      <td>4.0</td>\n",
       "    </tr>\n",
       "    <tr>\n",
       "      <th>Sex</th>\n",
       "      <td>905.0</td>\n",
       "      <td>0.791160</td>\n",
       "      <td>0.406704</td>\n",
       "      <td>0.0</td>\n",
       "      <td>1.0</td>\n",
       "      <td>1.0</td>\n",
       "      <td>1.0</td>\n",
       "      <td>1.0</td>\n",
       "    </tr>\n",
       "    <tr>\n",
       "      <th>ChestPainType</th>\n",
       "      <td>905.0</td>\n",
       "      <td>0.783425</td>\n",
       "      <td>0.957938</td>\n",
       "      <td>0.0</td>\n",
       "      <td>0.0</td>\n",
       "      <td>0.0</td>\n",
       "      <td>2.0</td>\n",
       "      <td>3.0</td>\n",
       "    </tr>\n",
       "    <tr>\n",
       "      <th>RestingBP</th>\n",
       "      <td>905.0</td>\n",
       "      <td>132.049724</td>\n",
       "      <td>17.182028</td>\n",
       "      <td>80.0</td>\n",
       "      <td>120.0</td>\n",
       "      <td>130.0</td>\n",
       "      <td>140.0</td>\n",
       "      <td>185.0</td>\n",
       "    </tr>\n",
       "    <tr>\n",
       "      <th>Cholesterol</th>\n",
       "      <td>905.0</td>\n",
       "      <td>198.166851</td>\n",
       "      <td>107.164571</td>\n",
       "      <td>0.0</td>\n",
       "      <td>175.0</td>\n",
       "      <td>223.0</td>\n",
       "      <td>266.0</td>\n",
       "      <td>518.0</td>\n",
       "    </tr>\n",
       "    <tr>\n",
       "      <th>FastingBS</th>\n",
       "      <td>905.0</td>\n",
       "      <td>0.232044</td>\n",
       "      <td>0.422370</td>\n",
       "      <td>0.0</td>\n",
       "      <td>0.0</td>\n",
       "      <td>0.0</td>\n",
       "      <td>0.0</td>\n",
       "      <td>1.0</td>\n",
       "    </tr>\n",
       "    <tr>\n",
       "      <th>RestingECG</th>\n",
       "      <td>905.0</td>\n",
       "      <td>0.993370</td>\n",
       "      <td>0.631020</td>\n",
       "      <td>0.0</td>\n",
       "      <td>1.0</td>\n",
       "      <td>1.0</td>\n",
       "      <td>1.0</td>\n",
       "      <td>2.0</td>\n",
       "    </tr>\n",
       "    <tr>\n",
       "      <th>MaxHR</th>\n",
       "      <td>905.0</td>\n",
       "      <td>136.883978</td>\n",
       "      <td>25.294172</td>\n",
       "      <td>63.0</td>\n",
       "      <td>120.0</td>\n",
       "      <td>138.0</td>\n",
       "      <td>156.0</td>\n",
       "      <td>202.0</td>\n",
       "    </tr>\n",
       "    <tr>\n",
       "      <th>ExerciseAngina</th>\n",
       "      <td>905.0</td>\n",
       "      <td>0.404420</td>\n",
       "      <td>0.491051</td>\n",
       "      <td>0.0</td>\n",
       "      <td>0.0</td>\n",
       "      <td>0.0</td>\n",
       "      <td>1.0</td>\n",
       "      <td>1.0</td>\n",
       "    </tr>\n",
       "    <tr>\n",
       "      <th>Oldpeak</th>\n",
       "      <td>905.0</td>\n",
       "      <td>0.878785</td>\n",
       "      <td>1.050628</td>\n",
       "      <td>-2.6</td>\n",
       "      <td>0.0</td>\n",
       "      <td>0.5</td>\n",
       "      <td>1.5</td>\n",
       "      <td>5.6</td>\n",
       "    </tr>\n",
       "    <tr>\n",
       "      <th>ST_Slope</th>\n",
       "      <td>905.0</td>\n",
       "      <td>1.367956</td>\n",
       "      <td>0.604620</td>\n",
       "      <td>0.0</td>\n",
       "      <td>1.0</td>\n",
       "      <td>1.0</td>\n",
       "      <td>2.0</td>\n",
       "      <td>2.0</td>\n",
       "    </tr>\n",
       "    <tr>\n",
       "      <th>HeartDisease</th>\n",
       "      <td>905.0</td>\n",
       "      <td>0.549171</td>\n",
       "      <td>0.497851</td>\n",
       "      <td>0.0</td>\n",
       "      <td>0.0</td>\n",
       "      <td>1.0</td>\n",
       "      <td>1.0</td>\n",
       "      <td>1.0</td>\n",
       "    </tr>\n",
       "  </tbody>\n",
       "</table>\n",
       "</div>"
      ],
      "text/plain": [
       "                count        mean         std   min    25%    50%    75%  \\\n",
       "Age             905.0    1.994475    0.983814   0.0    1.0    2.0    3.0   \n",
       "Sex             905.0    0.791160    0.406704   0.0    1.0    1.0    1.0   \n",
       "ChestPainType   905.0    0.783425    0.957938   0.0    0.0    0.0    2.0   \n",
       "RestingBP       905.0  132.049724   17.182028  80.0  120.0  130.0  140.0   \n",
       "Cholesterol     905.0  198.166851  107.164571   0.0  175.0  223.0  266.0   \n",
       "FastingBS       905.0    0.232044    0.422370   0.0    0.0    0.0    0.0   \n",
       "RestingECG      905.0    0.993370    0.631020   0.0    1.0    1.0    1.0   \n",
       "MaxHR           905.0  136.883978   25.294172  63.0  120.0  138.0  156.0   \n",
       "ExerciseAngina  905.0    0.404420    0.491051   0.0    0.0    0.0    1.0   \n",
       "Oldpeak         905.0    0.878785    1.050628  -2.6    0.0    0.5    1.5   \n",
       "ST_Slope        905.0    1.367956    0.604620   0.0    1.0    1.0    2.0   \n",
       "HeartDisease    905.0    0.549171    0.497851   0.0    0.0    1.0    1.0   \n",
       "\n",
       "                  max  \n",
       "Age               4.0  \n",
       "Sex               1.0  \n",
       "ChestPainType     3.0  \n",
       "RestingBP       185.0  \n",
       "Cholesterol     518.0  \n",
       "FastingBS         1.0  \n",
       "RestingECG        2.0  \n",
       "MaxHR           202.0  \n",
       "ExerciseAngina    1.0  \n",
       "Oldpeak           5.6  \n",
       "ST_Slope          2.0  \n",
       "HeartDisease      1.0  "
      ]
     },
     "execution_count": 10,
     "metadata": {},
     "output_type": "execute_result"
    }
   ],
   "source": [
    "# Check range of each column\n",
    "heart.describe().T"
   ]
  },
  {
   "cell_type": "markdown",
   "id": "0c24ed37",
   "metadata": {},
   "source": [
    "We can see that some columns have much higher range than others (e.g., RestingBP, Cholesterol, MaxHR). <br>\n",
    "So we need to scale the data."
   ]
  },
  {
   "cell_type": "code",
   "execution_count": 11,
   "id": "a71031b4",
   "metadata": {},
   "outputs": [
    {
     "data": {
      "image/png": "[encoded data removed]",
      "text/plain": [
       "<Figure size 432x288 with 4 Axes>"
      ]
     },
     "metadata": {
      "needs_background": "light"
     },
     "output_type": "display_data"
    }
   ],
   "source": [
    "# Look at distributions of Oldpeak, RestingBP, Cholesterol, MaxHR\n",
    "\n",
    "# create columns to be plotted\n",
    "cols = ['Oldpeak', 'RestingBP', 'Cholesterol', 'MaxHR']\n",
    "# create figure and axes\n",
    "fig, axes = plt.subplots(2,2)\n",
    "axes = axes.ravel()\n",
    "\n",
    "for col, ax in zip(cols, axes):\n",
    "    sns.histplot(data = heart[col], kde = True, ax = ax)\n",
    "    \n",
    "fig.tight_layout()\n",
    "plt.show()"
   ]
  },
  {
   "cell_type": "markdown",
   "id": "ee33a1fb",
   "metadata": {},
   "source": [
    "We see that 'Oldpeak' is rightly skewed, so we need to normalize it, <br>\n",
    "'RestingBP', 'Cholesterol', 'MaxHR' are all normally distributed (although 'Cholestrol' has a bimodal distribution), <br>\n",
    "But their scales are too big, so we need to scale them down via standardization."
   ]
  },
  {
   "cell_type": "code",
   "execution_count": 14,
   "id": "9ba75408",
   "metadata": {},
   "outputs": [
    {
     "data": {
      "text/html": [
       "<div>\n",
       "<style scoped>\n",
       "    .dataframe tbody tr th:only-of-type {\n",
       "        vertical-align: middle;\n",
       "    }\n",
       "\n",
       "    .dataframe tbody tr th {\n",
       "        vertical-align: top;\n",
       "    }\n",
       "\n",
       "    .dataframe thead th {\n",
       "        text-align: right;\n",
       "    }\n",
       "</style>\n",
       "<table border=\"1\" class=\"dataframe\">\n",
       "  <thead>\n",
       "    <tr style=\"text-align: right;\">\n",
       "      <th></th>\n",
       "      <th>Age</th>\n",
       "      <th>Sex</th>\n",
       "      <th>ChestPainType</th>\n",
       "      <th>RestingBP</th>\n",
       "      <th>Cholesterol</th>\n",
       "      <th>FastingBS</th>\n",
       "      <th>RestingECG</th>\n",
       "      <th>MaxHR</th>\n",
       "      <th>ExerciseAngina</th>\n",
       "      <th>Oldpeak</th>\n",
       "      <th>ST_Slope</th>\n",
       "      <th>HeartDisease</th>\n",
       "    </tr>\n",
       "  </thead>\n",
       "  <tbody>\n",
       "    <tr>\n",
       "      <th>0</th>\n",
       "      <td>1</td>\n",
       "      <td>1</td>\n",
       "      <td>1</td>\n",
       "      <td>0.462965</td>\n",
       "      <td>0.848073</td>\n",
       "      <td>0</td>\n",
       "      <td>1</td>\n",
       "      <td>1.389073</td>\n",
       "      <td>0</td>\n",
       "      <td>0.317073</td>\n",
       "      <td>2</td>\n",
       "      <td>0</td>\n",
       "    </tr>\n",
       "    <tr>\n",
       "      <th>1</th>\n",
       "      <td>2</td>\n",
       "      <td>0</td>\n",
       "      <td>2</td>\n",
       "      <td>1.627615</td>\n",
       "      <td>-0.169617</td>\n",
       "      <td>0</td>\n",
       "      <td>1</td>\n",
       "      <td>0.756166</td>\n",
       "      <td>0</td>\n",
       "      <td>0.439024</td>\n",
       "      <td>1</td>\n",
       "      <td>1</td>\n",
       "    </tr>\n",
       "    <tr>\n",
       "      <th>2</th>\n",
       "      <td>0</td>\n",
       "      <td>1</td>\n",
       "      <td>1</td>\n",
       "      <td>-0.119361</td>\n",
       "      <td>0.792053</td>\n",
       "      <td>0</td>\n",
       "      <td>2</td>\n",
       "      <td>-1.538120</td>\n",
       "      <td>0</td>\n",
       "      <td>0.317073</td>\n",
       "      <td>2</td>\n",
       "      <td>0</td>\n",
       "    </tr>\n",
       "    <tr>\n",
       "      <th>3</th>\n",
       "      <td>1</td>\n",
       "      <td>0</td>\n",
       "      <td>0</td>\n",
       "      <td>0.346500</td>\n",
       "      <td>0.147828</td>\n",
       "      <td>0</td>\n",
       "      <td>1</td>\n",
       "      <td>-1.142554</td>\n",
       "      <td>1</td>\n",
       "      <td>0.500000</td>\n",
       "      <td>1</td>\n",
       "      <td>1</td>\n",
       "    </tr>\n",
       "    <tr>\n",
       "      <th>4</th>\n",
       "      <td>2</td>\n",
       "      <td>1</td>\n",
       "      <td>2</td>\n",
       "      <td>1.045290</td>\n",
       "      <td>-0.029568</td>\n",
       "      <td>0</td>\n",
       "      <td>1</td>\n",
       "      <td>-0.588760</td>\n",
       "      <td>0</td>\n",
       "      <td>0.317073</td>\n",
       "      <td>2</td>\n",
       "      <td>0</td>\n",
       "    </tr>\n",
       "  </tbody>\n",
       "</table>\n",
       "</div>"
      ],
      "text/plain": [
       "   Age  Sex  ChestPainType  RestingBP  Cholesterol  FastingBS  RestingECG  \\\n",
       "0    1    1              1   0.462965     0.848073          0           1   \n",
       "1    2    0              2   1.627615    -0.169617          0           1   \n",
       "2    0    1              1  -0.119361     0.792053          0           2   \n",
       "3    1    0              0   0.346500     0.147828          0           1   \n",
       "4    2    1              2   1.045290    -0.029568          0           1   \n",
       "\n",
       "      MaxHR  ExerciseAngina   Oldpeak  ST_Slope  HeartDisease  \n",
       "0  1.389073               0  0.317073         2             0  \n",
       "1  0.756166               0  0.439024         1             1  \n",
       "2 -1.538120               0  0.317073         2             0  \n",
       "3 -1.142554               1  0.500000         1             1  \n",
       "4 -0.588760               0  0.317073         2             0  "
      ]
     },
     "execution_count": 14,
     "metadata": {},
     "output_type": "execute_result"
    }
   ],
   "source": [
    "# Set up normalization/standardization\n",
    "minmax = MinMaxScaler()  \n",
    "sscaler = StandardScaler() \n",
    "# Scale the data\n",
    "heart['RestingBP'] = sscaler.fit_transform(heart[['RestingBP']])\n",
    "heart['Cholesterol'] = sscaler.fit_transform(heart[['Cholesterol']])\n",
    "heart['MaxHR'] = sscaler.fit_transform(heart[['MaxHR']])\n",
    "heart['Oldpeak'] = minmax.fit_transform(heart[['Oldpeak']])\n",
    "\n",
    "heart.head()"
   ]
  },
  {
   "cell_type": "code",
   "execution_count": 15,
   "id": "b32da248",
   "metadata": {},
   "outputs": [],
   "source": [
    "# Feature selection"
   ]
  },
  {
   "cell_type": "code",
   "execution_count": 17,
   "id": "aab34bd5",
   "metadata": {},
   "outputs": [
    {
     "name": "stdout",
     "output_type": "stream",
     "text": [
      "Categorical features: ['Age', 'Sex', 'ChestPainType', 'FastingBS', 'RestingECG', 'ExerciseAngina', 'ST_Slope', 'HeartDisease']\n",
      "Numerical features: ['RestingBP', 'Cholesterol', 'MaxHR', 'Oldpeak']\n"
     ]
    }
   ],
   "source": [
    "# First, we divide all features into categorical and numerical\n",
    "c_features = [] # for categorical features\n",
    "n_features = [] # for numerical features\n",
    "\n",
    "for i in list(heart.columns):\n",
    "    if len(heart[i].unique()) > 5:  # since the length of encoded categorical labels are all under 5\n",
    "        n_features.append(i)\n",
    "    else:\n",
    "        c_features.append(i)\n",
    "print(f'Categorical features: {c_features}')\n",
    "print(f'Numerical features: {n_features}')"
   ]
  },
  {
   "cell_type": "code",
   "execution_count": 18,
   "id": "94146594",
   "metadata": {},
   "outputs": [],
   "source": [
    "# For categorical features,\n",
    "# We use Chi Squared Test\n",
    "\n",
    "from sklearn.feature_selection import SelectKBest\n",
    "from sklearn.feature_selection import chi2\n",
    "\n",
    "features = heart.loc[:, c_features[:-1]]  # since the last element in list is 'HeartDisease'\n",
    "target = heart.loc[:, c_features[-1]]\n",
    "\n",
    "best = SelectKBest(score_func=chi2, k='all')\n",
    "model = best.fit(features, target)\n",
    "\n",
    "scores = pd.DataFrame(data = model.scores_, \n",
    "                     columns = ['Chi Squared Score'],\n",
    "                     index = list(features.columns))"
   ]
  },
  {
   "cell_type": "code",
   "execution_count": 27,
   "id": "f02aeb19",
   "metadata": {},
   "outputs": [
    {
     "data": {
      "text/html": [
       "<div>\n",
       "<style scoped>\n",
       "    .dataframe tbody tr th:only-of-type {\n",
       "        vertical-align: middle;\n",
       "    }\n",
       "\n",
       "    .dataframe tbody tr th {\n",
       "        vertical-align: top;\n",
       "    }\n",
       "\n",
       "    .dataframe thead th {\n",
       "        text-align: right;\n",
       "    }\n",
       "</style>\n",
       "<table border=\"1\" class=\"dataframe\">\n",
       "  <thead>\n",
       "    <tr style=\"text-align: right;\">\n",
       "      <th></th>\n",
       "      <th>Chi Squared Score</th>\n",
       "    </tr>\n",
       "  </thead>\n",
       "  <tbody>\n",
       "    <tr>\n",
       "      <th>ChestPainType</th>\n",
       "      <td>157.668482</td>\n",
       "    </tr>\n",
       "    <tr>\n",
       "      <th>ExerciseAngina</th>\n",
       "      <td>133.539906</td>\n",
       "    </tr>\n",
       "    <tr>\n",
       "      <th>ST_Slope</th>\n",
       "      <td>75.253554</td>\n",
       "    </tr>\n",
       "    <tr>\n",
       "      <th>FastingBS</th>\n",
       "      <td>49.389230</td>\n",
       "    </tr>\n",
       "    <tr>\n",
       "      <th>Age</th>\n",
       "      <td>30.499053</td>\n",
       "    </tr>\n",
       "    <tr>\n",
       "      <th>Sex</th>\n",
       "      <td>18.195453</td>\n",
       "    </tr>\n",
       "    <tr>\n",
       "      <th>RestingECG</th>\n",
       "      <td>1.343889</td>\n",
       "    </tr>\n",
       "  </tbody>\n",
       "</table>\n",
       "</div>"
      ],
      "text/plain": [
       "                Chi Squared Score\n",
       "ChestPainType          157.668482\n",
       "ExerciseAngina         133.539906\n",
       "ST_Slope                75.253554\n",
       "FastingBS               49.389230\n",
       "Age                     30.499053\n",
       "Sex                     18.195453\n",
       "RestingECG               1.343889"
      ]
     },
     "execution_count": 27,
     "metadata": {},
     "output_type": "execute_result"
    }
   ],
   "source": [
    "scores.sort_values(by=['Chi Squared Score'], ascending=False)"
   ]
  },
  {
   "cell_type": "markdown",
   "id": "b0b77293",
   "metadata": {},
   "source": [
    "In terms of predicting heart disease, all categorical features seem important except 'RestingECG'."
   ]
  },
  {
   "cell_type": "code",
   "execution_count": 28,
   "id": "94999947",
   "metadata": {},
   "outputs": [],
   "source": [
    "# For numerical features\n",
    "# we use ANOVA test\n",
    "from sklearn.feature_selection import f_classif\n",
    "\n",
    "features = heart.loc[:, n_features] # all numerical features\n",
    "target = heart.loc[:, c_features[-1]]  # 'HeartDisease'\n",
    "\n",
    "best = SelectKBest(score_func = f_classif, k = 'all')\n",
    "model = best.fit(features, target)\n",
    "\n",
    "scores = pd.DataFrame(data = model.scores_,\n",
    "                     columns = ['ANOVA Score'],\n",
    "                     index = list(features.columns))"
   ]
  },
  {
   "cell_type": "code",
   "execution_count": 29,
   "id": "a4b1e49f",
   "metadata": {},
   "outputs": [
    {
     "data": {
      "text/html": [
       "<div>\n",
       "<style scoped>\n",
       "    .dataframe tbody tr th:only-of-type {\n",
       "        vertical-align: middle;\n",
       "    }\n",
       "\n",
       "    .dataframe tbody tr th {\n",
       "        vertical-align: top;\n",
       "    }\n",
       "\n",
       "    .dataframe thead th {\n",
       "        text-align: right;\n",
       "    }\n",
       "</style>\n",
       "<table border=\"1\" class=\"dataframe\">\n",
       "  <thead>\n",
       "    <tr style=\"text-align: right;\">\n",
       "      <th></th>\n",
       "      <th>ANOVA Score</th>\n",
       "    </tr>\n",
       "  </thead>\n",
       "  <tbody>\n",
       "    <tr>\n",
       "      <th>Oldpeak</th>\n",
       "      <td>180.166224</td>\n",
       "    </tr>\n",
       "    <tr>\n",
       "      <th>MaxHR</th>\n",
       "      <td>178.733122</td>\n",
       "    </tr>\n",
       "    <tr>\n",
       "      <th>Cholesterol</th>\n",
       "      <td>54.061999</td>\n",
       "    </tr>\n",
       "    <tr>\n",
       "      <th>RestingBP</th>\n",
       "      <td>9.949882</td>\n",
       "    </tr>\n",
       "  </tbody>\n",
       "</table>\n",
       "</div>"
      ],
      "text/plain": [
       "             ANOVA Score\n",
       "Oldpeak       180.166224\n",
       "MaxHR         178.733122\n",
       "Cholesterol    54.061999\n",
       "RestingBP       9.949882"
      ]
     },
     "execution_count": 29,
     "metadata": {},
     "output_type": "execute_result"
    }
   ],
   "source": [
    "scores.sort_values(by=['ANOVA Score'], ascending=False)"
   ]
  },
  {
   "cell_type": "markdown",
   "id": "6c3710e2",
   "metadata": {},
   "source": [
    "In terms of predicting heart disease, all numerical features seem important except 'RestingBP'."
   ]
  },
  {
   "cell_type": "code",
   "execution_count": 32,
   "id": "5e656670",
   "metadata": {},
   "outputs": [],
   "source": [
    "# Training and testing data\n",
    "X = heart[heart.columns.drop(['HeartDisease', 'RestingECG', 'RestingBP'])].values # we leave out 'RestingECG' and 'RestingBP'\n",
    "y = heart['HeartDisease'].values\n",
    "\n",
    "X_train, X_test, y_train, y_test = train_test_split(X, y, test_size = 0.2,\n",
    "                                                   random_state = 123)"
   ]
  },
  {
   "cell_type": "markdown",
   "id": "3ca41627",
   "metadata": {},
   "source": [
    "We split training data and testing data by 80% and 20%"
   ]
  },
  {
   "cell_type": "code",
   "execution_count": 33,
   "id": "92162c3a",
   "metadata": {},
   "outputs": [
    {
     "data": {
      "text/plain": [
       "(724, 9)"
      ]
     },
     "execution_count": 33,
     "metadata": {},
     "output_type": "execute_result"
    }
   ],
   "source": [
    "X_train.shape"
   ]
  },
  {
   "cell_type": "code",
   "execution_count": 34,
   "id": "3a1b053f",
   "metadata": {},
   "outputs": [
    {
     "data": {
      "text/plain": [
       "(724,)"
      ]
     },
     "execution_count": 34,
     "metadata": {},
     "output_type": "execute_result"
    }
   ],
   "source": [
    "y_train.shape"
   ]
  },
  {
   "cell_type": "code",
   "execution_count": 35,
   "id": "efbef3d7",
   "metadata": {},
   "outputs": [
    {
     "data": {
      "text/plain": [
       "(181, 9)"
      ]
     },
     "execution_count": 35,
     "metadata": {},
     "output_type": "execute_result"
    }
   ],
   "source": [
    "X_test.shape"
   ]
  },
  {
   "cell_type": "code",
   "execution_count": 36,
   "id": "10e705af",
   "metadata": {},
   "outputs": [
    {
     "data": {
      "text/plain": [
       "(181,)"
      ]
     },
     "execution_count": 36,
     "metadata": {},
     "output_type": "execute_result"
    }
   ],
   "source": [
    "y_test.shape"
   ]
  },
  {
   "cell_type": "code",
   "execution_count": 38,
   "id": "3be899d3",
   "metadata": {},
   "outputs": [
    {
     "data": {
      "text/plain": [
       "905"
      ]
     },
     "execution_count": 38,
     "metadata": {},
     "output_type": "execute_result"
    }
   ],
   "source": [
    "heart.shape[0]"
   ]
  },
  {
   "cell_type": "code",
   "execution_count": 39,
   "id": "0f80e80f",
   "metadata": {},
   "outputs": [],
   "source": [
    "# Save the file\n",
    "datapath = Path('/Users/bq/Desktop/Bootcamp/Capstone_2/heart_preprocessing.csv')\n",
    "heart.to_csv(datapath)"
   ]
  },
  {
   "cell_type": "code",
   "execution_count": null,
   "id": "30ddbd3c",
   "metadata": {},
   "outputs": [],
   "source": []
  }
 ],
 "metadata": {
  "kernelspec": {
   "display_name": "Python 3 (ipykernel)",
   "language": "python",
   "name": "python3"
  },
  "language_info": {
   "codemirror_mode": {
    "name": "ipython",
    "version": 3
   },
   "file_extension": ".py",
   "mimetype": "text/x-python",
   "name": "python",
   "nbconvert_exporter": "python",
   "pygments_lexer": "ipython3",
   "version": "3.10.0"
  }
 },
 "nbformat": 4,
 "nbformat_minor": 5
}
