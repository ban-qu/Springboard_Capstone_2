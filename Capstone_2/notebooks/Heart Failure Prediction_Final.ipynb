{
 "cells": [
  {
   "cell_type": "markdown",
   "id": "e879c784",
   "metadata": {},
   "source": [
    "Ban Qu"
   ]
  },
  {
   "cell_type": "markdown",
   "id": "1bd09825",
   "metadata": {},
   "source": [
    "Final Report:\n",
    "Heart Failure Prediction Analysis"
   ]
  },
  {
   "cell_type": "markdown",
   "id": "fa8f7d89",
   "metadata": {},
   "source": [
    "## Problem Statement\n",
    "    "
   ]
  },
  {
   "cell_type": "code",
   "execution_count": null,
   "id": "37b267e0",
   "metadata": {},
   "outputs": [],
   "source": []
  }
 ],
 "metadata": {
  "kernelspec": {
   "display_name": "Python 3 (ipykernel)",
   "language": "python",
   "name": "python3"
  },
  "language_info": {
   "codemirror_mode": {
    "name": "ipython",
    "version": 3
   },
   "file_extension": ".py",
   "mimetype": "text/x-python",
   "name": "python",
   "nbconvert_exporter": "python",
   "pygments_lexer": "ipython3",
   "version": "3.10.0"
  }
 },
 "nbformat": 4,
 "nbformat_minor": 5
}
